{
 "cells": [
  {
   "cell_type": "markdown",
   "metadata": {
    "slideshow": {
     "slide_type": "slide"
    }
   },
   "source": [
    "# RISE ?"
   ]
  },
  {
   "cell_type": "code",
   "execution_count": 2,
   "metadata": {
    "slideshow": {
     "slide_type": "skip"
    }
   },
   "outputs": [
    {
     "ename": "ModuleNotFoundError",
     "evalue": "No module named 'numpy'",
     "output_type": "error",
     "traceback": [
      "\u001b[0;31m---------------------------------------------------------------------------\u001b[0m",
      "\u001b[0;31mModuleNotFoundError\u001b[0m                       Traceback (most recent call last)",
      "\u001b[0;32m<ipython-input-2-6d9d10be416a>\u001b[0m in \u001b[0;36m<module>\u001b[0;34m()\u001b[0m\n\u001b[0;32m----> 1\u001b[0;31m \u001b[0;32mimport\u001b[0m \u001b[0mnumpy\u001b[0m \u001b[0;32mas\u001b[0m \u001b[0mnp\u001b[0m\u001b[0;34m\u001b[0m\u001b[0m\n\u001b[0m\u001b[1;32m      2\u001b[0m \u001b[0;32mimport\u001b[0m \u001b[0mmatplotlib\u001b[0m\u001b[0;34m.\u001b[0m\u001b[0mpyplot\u001b[0m \u001b[0;32mas\u001b[0m \u001b[0mplt\u001b[0m\u001b[0;34m\u001b[0m\u001b[0m\n\u001b[1;32m      3\u001b[0m \u001b[0mget_ipython\u001b[0m\u001b[0;34m(\u001b[0m\u001b[0;34m)\u001b[0m\u001b[0;34m.\u001b[0m\u001b[0mrun_line_magic\u001b[0m\u001b[0;34m(\u001b[0m\u001b[0;34m'matplotlib'\u001b[0m\u001b[0;34m,\u001b[0m \u001b[0;34m'nbagg'\u001b[0m\u001b[0;34m)\u001b[0m\u001b[0;34m\u001b[0m\u001b[0m\n",
      "\u001b[0;31mModuleNotFoundError\u001b[0m: No module named 'numpy'"
     ]
    }
   ],
   "source": [
    "import numpy as np\n",
    "import matplotlib.pyplot as plt\n",
    "%matplotlib nbagg"
   ]
  },
  {
   "cell_type": "code",
   "execution_count": 4,
   "metadata": {
    "slideshow": {
     "slide_type": "slide"
    }
   },
   "outputs": [
    {
     "name": "stdout",
     "output_type": "stream",
     "text": [
      "Fetching package metadata .............\n",
      "^C\n",
      "Traceback (most recent call last):\n",
      "  File \"/home/lcharleux/Documents/Informatique/anaconda/lib/python3.5/site-packages/conda/_vendor/auxlib/entity.py\", line 403, in __get__\n",
      "    val = instance.__dict__[self.name]\n",
      "KeyError: 'features'\n",
      "\n",
      "During handling of the above exception, another exception occurred:\n",
      "\n",
      "Traceback (most recent call last):\n",
      "  File \"/home/lcharleux/Documents/Informatique/anaconda/envs/rise_test/bin/conda\", line 6, in <module>\n",
      "    sys.exit(conda.cli.main())\n",
      "  File \"/home/lcharleux/Documents/Informatique/anaconda/lib/python3.5/site-packages/conda/cli/main.py\", line 182, in main\n",
      "    return conda_exception_handler(_main, *args)\n",
      "  File \"/home/lcharleux/Documents/Informatique/anaconda/lib/python3.5/site-packages/conda/exceptions.py\", line 640, in conda_exception_handler\n",
      "    return_value = func(*args, **kwargs)\n",
      "  File \"/home/lcharleux/Documents/Informatique/anaconda/lib/python3.5/site-packages/conda/cli/main.py\", line 140, in _main\n",
      "    exit_code = args.func(args, p)\n",
      "  File \"/home/lcharleux/Documents/Informatique/anaconda/lib/python3.5/site-packages/conda/cli/main_install.py\", line 80, in execute\n",
      "    install(args, parser, 'install')\n",
      "  File \"/home/lcharleux/Documents/Informatique/anaconda/lib/python3.5/site-packages/conda/cli/install.py\", line 261, in install\n",
      "    channel_priority_map=_channel_priority_map, is_update=isupdate)\n",
      "  File \"/home/lcharleux/Documents/Informatique/anaconda/lib/python3.5/site-packages/conda/plan.py\", line 471, in install_actions_list\n",
      "    r = get_resolve_object(index.copy(), prefix)\n",
      "  File \"/home/lcharleux/Documents/Informatique/anaconda/lib/python3.5/site-packages/conda/plan.py\", line 532, in get_resolve_object\n",
      "    r = Resolve(index)\n",
      "  File \"/home/lcharleux/Documents/Informatique/anaconda/lib/python3.5/site-packages/conda/resolve.py\", line 146, in __init__\n",
      "    for fstr in chain(info.get('features', '').split(),\n",
      "  File \"/home/lcharleux/Documents/Informatique/anaconda/lib/python3.5/site-packages/conda/_vendor/auxlib/entity.py\", line 852, in get\n",
      "    return getattr(self, item, default)\n",
      "  File \"/home/lcharleux/Documents/Informatique/anaconda/lib/python3.5/site-packages/conda/_vendor/auxlib/entity.py\", line 413, in __get__\n",
      "    raise AttributeError(\"A value for {0} has not been set\".format(self.name))\n",
      "KeyboardInterrupt\n"
     ]
    }
   ],
   "source": [
    "!conda install numpy\n"
   ]
  },
  {
   "cell_type": "code",
   "execution_count": null,
   "metadata": {},
   "outputs": [],
   "source": []
  }
 ],
 "metadata": {
  "celltoolbar": "Slideshow",
  "kernelspec": {
   "display_name": "Python 3",
   "language": "python",
   "name": "python3"
  },
  "language_info": {
   "codemirror_mode": {
    "name": "ipython",
    "version": 3
   },
   "file_extension": ".py",
   "mimetype": "text/x-python",
   "name": "python",
   "nbconvert_exporter": "python",
   "pygments_lexer": "ipython3",
   "version": "3.6.4"
  }
 },
 "nbformat": 4,
 "nbformat_minor": 2
}
